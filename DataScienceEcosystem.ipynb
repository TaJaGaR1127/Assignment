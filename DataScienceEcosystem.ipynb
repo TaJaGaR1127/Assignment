{
 "cells": [
  {
   "cell_type": "markdown",
   "id": "b629ce9a",
   "metadata": {},
   "source": [
    "# Data Science Tools and Ecosystem"
   ]
  },
  {
   "cell_type": "markdown",
   "id": "a384f595",
   "metadata": {},
   "source": [
    "In this notebook, Data Science Tools and Ecosystem are summarized."
   ]
  },
  {
   "cell_type": "markdown",
   "id": "fd850b28",
   "metadata": {},
   "source": [
    "#### Objectives:\n",
    "In markdown cells:\n",
    "- List popular languages for Data Science using numbered list\n",
    "- List popular libraries for Data Science using numbered list\n",
    "- List popular tools for Data Science using table\n",
    "\n",
    "In code cells:\n",
    "- Give example of arithmetic expression in Python\n",
    "- Give example of arithmetic expression in Python with a printed output"
   ]
  },
  {
   "cell_type": "markdown",
   "id": "20e3ea12",
   "metadata": {},
   "source": [
    "Some of the popular languages that Data Scientists use are:\n",
    "1. Python\n",
    "2. R\n",
    "3. Julia"
   ]
  },
  {
   "cell_type": "markdown",
   "id": "b603001f",
   "metadata": {},
   "source": [
    "Some of the commonly used libraries used by Data Scientists include:\n",
    "1. Pandas\n",
    "2. Matplotlib\n",
    "3. Apache Spark"
   ]
  },
  {
   "cell_type": "markdown",
   "id": "b01d879f",
   "metadata": {},
   "source": [
    "| Data Science Tools|\n",
    "| ---------- |\n",
    "| Jupyter Notebooks|\n",
    "| RStudio |\n",
    "| Apache Spark |"
   ]
  },
  {
   "cell_type": "markdown",
   "id": "fceb0705",
   "metadata": {},
   "source": [
    "### Below are a few examples of evaluating arithmetic expressions in Python:"
   ]
  },
  {
   "cell_type": "code",
   "execution_count": 2,
   "id": "09bd47c5",
   "metadata": {},
   "outputs": [
    {
     "data": {
      "text/plain": [
       "17"
      ]
     },
     "execution_count": 2,
     "metadata": {},
     "output_type": "execute_result"
    }
   ],
   "source": [
    "# This is a simple arithmetic expression to multiply then add integers\n",
    "(3*4) + 5"
   ]
  },
  {
   "cell_type": "code",
   "execution_count": 7,
   "id": "739d414b",
   "metadata": {},
   "outputs": [
    {
     "name": "stdout",
     "output_type": "stream",
     "text": [
      "200 minutes converted to hours is 3.3333333333333335 hours\n"
     ]
    }
   ],
   "source": [
    "# This will convert minutes 200 minutes to hours by dividing by 60\n",
    "\n",
    "minutes = 200\n",
    "hours = minutes / 60\n",
    "print(\"200 minutes converted to hours is\", hours, \"hours\")"
   ]
  },
  {
   "cell_type": "markdown",
   "id": "b1f4d441",
   "metadata": {},
   "source": [
    "## Author\n",
    "Sebastian \"TaJaGaR\""
   ]
  }
 ],
 "metadata": {
  "kernelspec": {
   "display_name": "Python 3 (ipykernel)",
   "language": "python",
   "name": "python3"
  },
  "language_info": {
   "codemirror_mode": {
    "name": "ipython",
    "version": 3
   },
   "file_extension": ".py",
   "mimetype": "text/x-python",
   "name": "python",
   "nbconvert_exporter": "python",
   "pygments_lexer": "ipython3",
   "version": "3.11.5"
  }
 },
 "nbformat": 4,
 "nbformat_minor": 5
}
